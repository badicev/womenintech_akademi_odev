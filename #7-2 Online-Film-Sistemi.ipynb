{
 "cells": [
  {
   "cell_type": "markdown",
   "metadata": {},
   "source": [
    "                                                      Online Film Sistemi"
   ]
  },
  {
   "cell_type": "markdown",
   "metadata": {},
   "source": [
    "Online film satan veya kiralayan uygulamanın sistemini tasarlayın.\n",
    "\n",
    "* Uygulamada filmler listelenebilir, sıralanabilir ve kullanıcılar uygulamaya abone olabilir.\n",
    "* Kullanıcılar abonelik için sistem üzerinden kredi satın alır.\n",
    "* Sadece abone olan kullanıcılar, kredileri ile film kiralayabilir ve kiraladığı filmin kredi bedeli kadar hesabından düşülür.\n",
    "* Normal kullanıcılar ve aboneler film satın alabilirler.\n",
    "* Eğer film mevcut değil ise talep edilebilir.\n",
    "* Bu sistemi tasvir eden Class(Sınıf) diyagramını çiziniz."
   ]
  },
  {
   "cell_type": "code",
   "execution_count": 38,
   "metadata": {},
   "outputs": [],
   "source": [
    "class OnlineFilmSistemi:\n",
    "    def __init__(self, film, kullanici, kredi, abonelik_durumu):\n",
    "        self.film = film\n",
    "        self.kullanici = kullanici\n",
    "        self.kredi = kredi\n",
    "        self.abonelik_durumu = abonelik_durumu\n",
    "\n",
    "    \n",
    "    def __str__(self):\n",
    "        return f\"Film: {self.film}, Kullanıcı: {self.kullanici}, Kredi: {self.kredi}, Abonelik: {self.abonelik}\"\n",
    "\n",
    "\n",
    "    def getAbonelik(self):\n",
    "        if self.abonelik == \"Premium\":\n",
    "            print(\"Premium abonelik\")\n",
    "        else:\n",
    "            print(\"Lütfen kayıt olunuz\")\n",
    "    \n",
    "    \n",
    "    def abone_ol(self):\n",
    "        global abonelik\n",
    "        if self.kullanici == \"Abone\":\n",
    "            print(\"Abone olunuz\")\n",
    "        else:\n",
    "            print(\"Abone olunuz\")\n",
    "       \n",
    "  \n",
    "\n",
    "\n",
    "    def kredi_al(self, tutar):\n",
    "        if self.abonelik == \"Premium\":\n",
    "            self.kredi += tutar\n",
    "            return self.kredi\n",
    "        else:\n",
    "            return \"Abonelik tipiniz uygun değil.\"\n",
    "        "
   ]
  },
  {
   "cell_type": "code",
   "execution_count": 51,
   "metadata": {},
   "outputs": [],
   "source": [
    "class Filmler(OnlineFilmSistemi):\n",
    "    def __init__(self, isim, kiralama_fiyati, satin_alma_fiyati, durum):\n",
    "        self.isim = isim\n",
    "        self.kiralam_fiyati = kiralama_fiyati\n",
    "        self.satin_alma_fiyati = satin_alma_fiyati\n",
    "        self.durum = durum\n",
    "        self.filmler = []\n",
    "        self.istenen_filmler = []"
   ]
  },
  {
   "cell_type": "code",
   "execution_count": 52,
   "metadata": {},
   "outputs": [],
   "source": [
    "class Kullanici(OnlineFilmSistemi):\n",
    "    def __init__(self, isim, fiyat, durum, kredi):\n",
    "        super().__init__(isim, fiyat, durum, kredi)\n",
    "        \n",
    "\n",
    "    def film_iste(self, isim):\n",
    "        input(\"Bir film isteyiniz: \")\n",
    "        if Filmler.isim in self.filmler:\n",
    "            print(f\"{Filmler.isim} filmi zaten var.\")\n",
    "        else:\n",
    "            print(f\"{Filmler.isim} filmi istendi.\")\n",
    "            self.istenen_filmler.append(isim)\n",
    "            \n",
    "\n",
    "    def film_kirala(self, isim, kiralama_fiyati):\n",
    "        self.isim = isim\n",
    "        self.filmler.append(isim)\n",
    "        print(f\"Film kiralamak için {kiralama_fiyati} kadar ödeme yapınız.\")\n",
    "        Kullanici.kredi = Kullanici.kredi - kiralama_fiyati\n",
    "\n",
    "    def film_satin_al(self, isim, satin_alma_fiyati):\n",
    "        self.isim = isim\n",
    "        self.filmler.append(isim)\n",
    "        print(f\"Film satın almak için {satin_alma_fiyati} kadar ödeme yapınız.\")\n",
    "        Kullanici.kredi = Kullanici.kredi - satin_alma_fiyati\n",
    "\n",
    "\n",
    "    \n"
   ]
  },
  {
   "cell_type": "code",
   "execution_count": 54,
   "metadata": {},
   "outputs": [
    {
     "name": "stdout",
     "output_type": "stream",
     "text": [
      "Film ismi: Film1, Kiralama fiyatı: 10, Satın alma fiyatı: 20, Durum: Kiralık\n",
      "Kullanıcı: 100, Kredi: Premium, Abonelik: 100\n"
     ]
    }
   ],
   "source": [
    "film1 = Filmler(\"Film1\", 10, 20, \"Kiralık\")\n",
    "print(f\"Film ismi: {film1.isim}, Kiralama fiyatı: {film1.kiralam_fiyati}, Satın alma fiyatı: {film1.satin_alma_fiyati}, Durum: {film1.durum}\")\n",
    "\n",
    "kullanici1 = Kullanici(\"Abone\", 100, \"Premium\", 100)\n",
    "print(f\"Kullanıcı: {kullanici1.kullanici}, Kredi: {kullanici1.kredi}, Abonelik: {kullanici1.abonelik_durumu}\")\n",
    "\n",
    "#TODO: Bazı düzeltmelere gerek var. Örneğin, film iste fonksiyonu çalışmıyor."
   ]
  },
  {
   "cell_type": "code",
   "execution_count": null,
   "metadata": {},
   "outputs": [],
   "source": []
  }
 ],
 "metadata": {
  "kernelspec": {
   "display_name": "Python 3.11.0 64-bit",
   "language": "python",
   "name": "python3"
  },
  "language_info": {
   "codemirror_mode": {
    "name": "ipython",
    "version": 3
   },
   "file_extension": ".py",
   "mimetype": "text/x-python",
   "name": "python",
   "nbconvert_exporter": "python",
   "pygments_lexer": "ipython3",
   "version": "3.11.0"
  },
  "orig_nbformat": 4,
  "vscode": {
   "interpreter": {
    "hash": "48568052eec3e48bec5163d0241420ad0cb3738ffc0c56fbb083086b8e264995"
   }
  }
 },
 "nbformat": 4,
 "nbformat_minor": 2
}
