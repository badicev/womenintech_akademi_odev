{
  "cells": [
    {
      "cell_type": "markdown",
      "metadata": {
        "colab_type": "text",
        "id": "view-in-github"
      },
      "source": [
        "<a href=\"https://colab.research.google.com/github/badicev/WomeninTechAcademySistersLab/blob/main/HMW1.ipynb\" target=\"_parent\"><img src=\"https://colab.research.google.com/assets/colab-badge.svg\" alt=\"Open In Colab\"/></a>"
      ]
    },
    {
      "cell_type": "code",
      "execution_count": 1,
      "metadata": {
        "colab": {
          "base_uri": "https://localhost:8080/",
          "height": 415
        },
        "id": "hn4cENmnrsQr",
        "outputId": "2c1f135e-147d-4dac-ee99-4f0d31e54d37"
      },
      "outputs": [
        {
          "data": {
            "image/png": "[encoded data removed]",
            "text/plain": [
              "<IPython.core.display.Image object>"
            ]
          },
          "execution_count": 1,
          "metadata": {},
          "output_type": "execute_result"
        }
      ],
      "source": [
        "from IPython.display import Image\n",
        "Image('ucgenssssss.png')\n"
      ]
    },
    {
      "cell_type": "code",
      "execution_count": 2,
      "metadata": {
        "colab": {
          "base_uri": "https://localhost:8080/"
        },
        "id": "ZVysR6ncr4R4",
        "outputId": "4865bac7-5ea5-4bdf-dc01-68057c4faa5b"
      },
      "outputs": [
        {
          "name": "stdout",
          "output_type": "stream",
          "text": [
            "\n",
            "*\n",
            "**\n",
            "***\n",
            "****\n",
            "*****\n"
          ]
        }
      ],
      "source": [
        "for i in range(0, 6):\n",
        "  for j in range(0, i):\n",
        "    print(\"*\", end=\"\")\n",
        "  print()  "
      ]
    },
    {
      "cell_type": "code",
      "execution_count": 3,
      "metadata": {
        "colab": {
          "base_uri": "https://localhost:8080/"
        },
        "id": "dEePWTVTr7uw",
        "outputId": "d404a1a8-ce8b-4b92-9330-d45e2c446b54"
      },
      "outputs": [
        {
          "name": "stdout",
          "output_type": "stream",
          "text": [
            "*****\n",
            "****\n",
            "***\n",
            "**\n",
            "*\n"
          ]
        }
      ],
      "source": [
        "for i in range(5, 0, -1):\n",
        "  for j in range(0, i):\n",
        "    print(\"*\", end=\"\")\n",
        "  print()  "
      ]
    },
    {
      "cell_type": "code",
      "execution_count": 9,
      "metadata": {
        "colab": {
          "base_uri": "https://localhost:8080/"
        },
        "id": "mMFm5iCtr_Tr",
        "outputId": "605ba061-a878-4153-ac16-389e2e9f734b"
      },
      "outputs": [
        {
          "name": "stdout",
          "output_type": "stream",
          "text": [
            "     *\n",
            "    **\n",
            "   ***\n",
            "  ****\n",
            " *****\n"
          ]
        }
      ],
      "source": [
        "numbers = 5\n",
        "for i in range(0, numbers):\n",
        "  for j in range(0, i+1):\n",
        "    if j == 0:\n",
        "      print(\" \" *(numbers - i) +  \"*\", end=\"\")\n",
        "    else: print(\"*\", end=\"\")\n",
        "  print()"
      ]
    },
    {
      "cell_type": "code",
      "execution_count": 15,
      "metadata": {
        "colab": {
          "base_uri": "https://localhost:8080/"
        },
        "id": "xFy0zuM0sC1-",
        "outputId": "bce0e92b-4200-4b59-f819-a14420366388"
      },
      "outputs": [
        {
          "name": "stdout",
          "output_type": "stream",
          "text": [
            "*****\n",
            " ****\n",
            "  ***\n",
            "   **\n",
            "    *\n"
          ]
        }
      ],
      "source": [
        "numbers = 5\n",
        "for i in range(numbers, 0, -1):\n",
        "  for j in range(0, i):\n",
        "    if j == 0:\n",
        "      print(\" \" *(numbers - i) +  \"*\", end=\"\")\n",
        "    else: print(\"*\", end=\"\")\n",
        "  print()"
      ]
    },
    {
      "cell_type": "code",
      "execution_count": 16,
      "metadata": {
        "colab": {
          "base_uri": "https://localhost:8080/"
        },
        "id": "JLZ2z0LXsLeF",
        "outputId": "d91df932-a5f1-4933-f51e-584e6ec34829"
      },
      "outputs": [
        {
          "name": "stdout",
          "output_type": "stream",
          "text": [
            "        * * \n",
            "\r\n",
            "      * * * * \n",
            "\r\n",
            "    * * * * * * \n",
            "\r\n",
            "  * * * * * * * * \n",
            "\r\n",
            "* * * * * * * * * * \n",
            "\r\n"
          ]
        }
      ],
      "source": [
        "numberA = 8\n",
        "numberB = 10\n",
        "for i in range(0, numberB, 2):\n",
        "  for j in range(0, numberA):\n",
        "    print(end=\" \") \n",
        "  numberA -=  2\n",
        "  for j in range(0, i+2):\n",
        "    print(\"* \", end=\"\")\n",
        "  print() \n",
        "  print('\\r') "
      ]
    },
    {
      "cell_type": "code",
      "execution_count": 17,
      "metadata": {
        "colab": {
          "base_uri": "https://localhost:8080/"
        },
        "id": "P2uWwvLjtXca",
        "outputId": "5d923e79-6f9f-41b4-bf35-ae3e7ad97e67"
      },
      "outputs": [
        {
          "name": "stdout",
          "output_type": "stream",
          "text": [
            "        * * * * * * * * * * \n",
            "\r\n",
            "          * * * * * * * * \n",
            "\r\n",
            "            * * * * * * \n",
            "\r\n",
            "              * * * * \n",
            "\r\n",
            "                * * \n",
            "\r\n"
          ]
        }
      ],
      "source": [
        "numberA = 8\n",
        "numberB = 10\n",
        "for i in range(numberB, 0, -2):\n",
        "  for j in range(0, numberA):\n",
        "    print(end=\" \") \n",
        "  numberA +=  2\n",
        "  for j in range(0, i):\n",
        "    print(\"* \", end=\"\")\n",
        "  print()  \n",
        "  print('\\r')"
      ]
    },
    {
      "cell_type": "code",
      "execution_count": 18,
      "metadata": {
        "colab": {
          "base_uri": "https://localhost:8080/"
        },
        "id": "loDBqGaPtZH9",
        "outputId": "e11ef236-411d-4047-b085-8fafa9ddea70"
      },
      "outputs": [
        {
          "name": "stdout",
          "output_type": "stream",
          "text": [
            "          \r\n",
            "*        *\r\n",
            "**      **\r\n",
            "***    ***\r\n",
            "****  ****\r\n",
            "**********\r\n"
          ]
        }
      ],
      "source": [
        "numbers=6\n",
        "\n",
        "for i in range(1, numbers + 1):\n",
        "  for j in range(1, i):\n",
        "    print(\"*\", end=\"\")\n",
        "  for k in range(i*2,numbers*2):\n",
        "    print(\" \", end=\"\")\n",
        "  for l in range(1, i):\n",
        "    print(\"*\", end=\"\")\n",
        "  print(\"\\r\")  \n",
        "\n",
        "      "
      ]
    }
  ],
  "metadata": {
    "colab": {
      "authorship_tag": "ABX9TyM0YJX/MgbjTfkPOoD1HZrB",
      "collapsed_sections": [],
      "include_colab_link": true,
      "provenance": []
    },
    "kernelspec": {
      "display_name": "Python 3.9.12 ('base')",
      "language": "python",
      "name": "python3"
    },
    "language_info": {
      "name": "python",
      "version": "3.9.12"
    },
    "vscode": {
      "interpreter": {
        "hash": "90149d1c5bbc0eaf5ddce05c7f84852f0254393e6b3836c84f153b07d377f381"
      }
    }
  },
  "nbformat": 4,
  "nbformat_minor": 0
}
