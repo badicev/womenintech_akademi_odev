{
 "cells": [
  {
   "cell_type": "markdown",
   "metadata": {},
   "source": [
    "                                                      Asansör Simülasyonu"
   ]
  },
  {
   "cell_type": "markdown",
   "metadata": {},
   "source": [
    "Nesne Yönelimli Programlamanın ilkelerini ve sınıflar arası ilişki durumlarını kullanmaya çalışın. (Encapsulation, Inheritance, Polymorphism, Abstraction)\n",
    "\n",
    "Kodluyoruz Sigorta Şirketi 12 katlı bir ofis binası inşa etmek ve onu en son asansör teknolojisi ile donatmak istiyor. Şirket, bina içindeki trafik akışı ihtiyaçlarını karşılayıp karşılamayacaklarını görmek için binanın asansörlerinin işlemlerini modelleyen bir yazılım simülatörü oluşturmanızı istiyor.\n",
    "\n",
    "Binada, her biri binanın 12 katına çıkabilecek beş asansör bulunacaktır. Her asansörün yaklaşık altı yetişkin yolcu kapasitesi vardır. Asansörler enerji tasarruflu olacak şekilde tasarlanmıştır, bu nedenle yalnızca gerektiğinde hareket ederler. Her asansörün kendi kapısı, kat gösterge ışığı ve kontrol paneli vardır. Kontrol panelinde hedef düğmeleri, kapı açma ve kapama düğmeleri ve bir acil durum sinyal düğmesi bulunur.\n",
    "\n",
    "Binadaki her katta, beş asansör boşluğunun her biri için bir kapı ve her kapı için bir varış zili vardır. Varış zili, asansörlerin bir kata vardığını gösterir. Her kapının üzerinde bulunan bir sinyal ışığı, asansörün gelişini ve asansörün hareket ettiği yönü gösterir. Her katta ayrıca üç set asansör çağrı düğmesi vardır.\n",
    "\n",
    "\n",
    "Simülatör, gerçek zaman geçişini simüle etmek ve simülasyonda meydana gelen olayları zaman damgası ve günlüğe kaydetmek için bir \"saat\" kullanır. Simülatör tarafından yolcu oluşturmak ve her yolcu için kalkış ve varış katlarını belirlemek için rastgele bir sayı üreteci kullanılır."
   ]
  },
  {
   "cell_type": "markdown",
   "metadata": {},
   "source": [
    "**************************************************************************************************************************************************************************************"
   ]
  },
  {
   "cell_type": "code",
   "execution_count": 386,
   "metadata": {},
   "outputs": [],
   "source": [
    "class Bina:\n",
    "    def __init__(self, katlar):\n",
    "        self.katlar = katlar\n",
    "        self.kat_sayisi = 12\n",
    "        self.asansor_sayisi = 5"
   ]
  },
  {
   "cell_type": "code",
   "execution_count": 387,
   "metadata": {},
   "outputs": [],
   "source": [
    "class Kat(Bina):\n",
    "    def __init__(self, kat_no):\n",
    "        super().__init__(self)\n",
    "        self.kat_no = kat_no\n",
    "        self.asansorler = []\n",
    "        for i in range(2):\n",
    "            self.asansorler.append(Bina.Asansor(i+1, self.kat_no))\n",
    "\n",
    "\n",
    "    def asansor_sec(self, hedef_kat):\n",
    "        if hedef_kat > self.kat_no:\n",
    "            return self.asansorler[0]\n",
    "\n",
    "    def  __str__(self):\n",
    "        return f\"{self.kat_no}. Kat\""
   ]
  },
  {
   "cell_type": "code",
   "execution_count": 388,
   "metadata": {},
   "outputs": [],
   "source": [
    "class Asansor(Bina):\n",
    "    def __init__(self,  kat, saat):\n",
    "        super().__init__(self)\n",
    "        self.asansorID = [1, 2, 3, 4, 5]\n",
    "        self.kapasite = 6\n",
    "        self.saat = saat\n",
    "        self.kat = kat\n",
    "        saat = self.rastgele_saat()\n",
    "        \n",
    "\n",
    "\n",
    "    def rastgele_saat(self):\n",
    "        import random\n",
    "        self.saat = random.randint(0,23)\n",
    "        return self.saat\n",
    "\n",
    "    def asansor_nerede(self):\n",
    "        return self.kat\n",
    "\n",
    "  \n",
    "\n",
    "    def asansoru_yonlendir(self, kat):\n",
    "        self.kat = kat\n",
    "\n",
    "    def asansor_hareket(self):\n",
    "        if self.kat > self.baslangic_kat:\n",
    "            self.katlar = self.katlar[::-1]\n",
    "            self.katlar.remove(self.kat)\n",
    "            self.katlar.remove(self.baslangic_kat)\n",
    "            self.katlar.append(self.baslangic_kat)\n",
    "            self.katlar.append(self.kat)\n",
    "            self.katlar = self.katlar[::-1]\n",
    "            print(self.katlar)\n",
    "        else:\n",
    "            self.katlar.remove(self.kat)\n",
    "            self.katlar.remove(self.baslangic_kat)\n",
    "            self.katlar.append(self.baslangic_kat)\n",
    "            self.katlar.append(self.kat)\n",
    "            print(self.katlar)"
   ]
  },
  {
   "cell_type": "code",
   "execution_count": 389,
   "metadata": {},
   "outputs": [],
   "source": [
    "class Kullanıcı(Asansor):\n",
    "    def __init__(self, istenilen_kat, saat, katlar):\n",
    "        super().__init__(self, istenilen_kat)\n",
    "        self.istenilen_kat = istenilen_kat\n",
    "        self.saat = saat\n",
    "        self.katlar = katlar\n",
    "    \n",
    "    def kullanici_kat_sor(self):\n",
    "        istenilen_kat = int(input(\"Hangi kata gitmek istiyorsunuz?\"))\n",
    "        if istenilen_kat in self.katlar:\n",
    "            Asansor.asansoru_yonlendir(istenilen_kat)\n",
    "        else:\n",
    "            print(\"Lütfen 1-12 arasında bir kat giriniz.\")\n",
    "            Asansor.kullanici_kat_sor()"
   ]
  },
  {
   "cell_type": "code",
   "execution_count": 390,
   "metadata": {},
   "outputs": [],
   "source": [
    "class KontrolYazilimi(Asansor):\n",
    "    def __init__(self,  baslangic_kat, kat, saat):\n",
    "        super().__init__(self,  baslangic_kat, kat, saat)\n",
    "        self.asansor_hedef_tuslari = 12\n",
    "        self.kapı_tuslari = 2\n",
    "        self.acil_durum_tuslari = 1\n",
    "        self.asansor_hedefe_git()\n",
    "        self.acil_durum()\n",
    "\n",
    "    def asansor_hedefe_git(self):\n",
    "        self.asansoru_yonlendir(self.kat)\n",
    "\n",
    "    def acil_durum(self):\n",
    "        print(\"Acil durum tuşuna bastınız. Asansörünüzün kapısını açıyoruz.\")\n",
    "\n",
    "\n",
    "    def gunluge_kaydet(self):\n",
    "        self.gunluk = []\n",
    "        self.gunluk.append(self.kat)\n",
    "        self.gunluk.append(self.saat)\n",
    "        return self.gunluk\n"
   ]
  },
  {
   "cell_type": "code",
   "execution_count": 394,
   "metadata": {},
   "outputs": [],
   "source": [
    "class Kapi(Asansor):\n",
    "    def __init__(self,  baslangic_kat, kat, saat):\n",
    "        super().__init__(self,  baslangic_kat, kat, saat)\n",
    "\n",
    "    def kapi_ac(self):\n",
    "        print(\"Kapı açıldı.\")\n",
    "        KontrolYazilimi.gunluge_kaydet()\n",
    "\n",
    "\n",
    "    def kapi_kapat(self):\n",
    "        print(\"Kapı kapandı.\")\n",
    "        KontrolYazilimi.gunluge_kaydet()\n",
    "    \n",
    "    "
   ]
  },
  {
   "cell_type": "code",
   "execution_count": 395,
   "metadata": {},
   "outputs": [],
   "source": [
    "class KatIsigi(Asansor):\n",
    "    def __init__(self, kapasite, baslangic_kat, kat_basina_asansor_sayisi):\n",
    "        super().__init__(kapasite, baslangic_kat, kat_basina_asansor_sayisi)\n",
    "\n",
    "    def kat_isigi_ac(self):\n",
    "        print(\"Kat ışığı yandı.\")\n",
    "\n",
    "    def kat_isigi_kapat(self):\n",
    "        print(\"Kat ışığı söndü.\")"
   ]
  },
  {
   "cell_type": "code",
   "execution_count": 396,
   "metadata": {},
   "outputs": [
    {
     "name": "stdout",
     "output_type": "stream",
     "text": [
      "1\n",
      "2\n",
      "3\n",
      "7\n"
     ]
    }
   ],
   "source": [
    "Asansor1 = Asansor(1, 1)\n",
    "Asansor2 = Asansor(2, 2)\n",
    "Asansor3 = Asansor(3, 5)\n",
    "Asansor4 = Asansor(7, 2)\n",
    "print(Asansor1.asansor_nerede())\n",
    "print(Asansor2.asansor_nerede())\n",
    "print(Asansor3.asansor_nerede())\n",
    "print(Asansor4.asansor_nerede())\n",
    "\n"
   ]
  },
  {
   "cell_type": "code",
   "execution_count": 397,
   "metadata": {},
   "outputs": [
    {
     "name": "stdout",
     "output_type": "stream",
     "text": [
      "5\n"
     ]
    }
   ],
   "source": [
    "Asansor1.asansoru_yonlendir(5)\n",
    "print(Asansor1.asansor_nerede())"
   ]
  },
  {
   "cell_type": "markdown",
   "metadata": {},
   "source": [
    "Bu asansöre binmenizi tavsiye etmezdim. :)\n",
    "\n",
    "\n",
    "#TODO: Düzeltmeler yapılacak. "
   ]
  },
  {
   "cell_type": "markdown",
   "metadata": {},
   "source": []
  }
 ],
 "metadata": {
  "kernelspec": {
   "display_name": "Python 3.11.0 64-bit",
   "language": "python",
   "name": "python3"
  },
  "language_info": {
   "codemirror_mode": {
    "name": "ipython",
    "version": 3
   },
   "file_extension": ".py",
   "mimetype": "text/x-python",
   "name": "python",
   "nbconvert_exporter": "python",
   "pygments_lexer": "ipython3",
   "version": "3.11.0"
  },
  "orig_nbformat": 4,
  "vscode": {
   "interpreter": {
    "hash": "48568052eec3e48bec5163d0241420ad0cb3738ffc0c56fbb083086b8e264995"
   }
  }
 },
 "nbformat": 4,
 "nbformat_minor": 2
}
