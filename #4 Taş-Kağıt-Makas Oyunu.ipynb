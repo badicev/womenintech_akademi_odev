{
 "cells": [
  {
   "cell_type": "code",
   "execution_count": 3,
   "metadata": {},
   "outputs": [
    {
     "name": "stdout",
     "output_type": "stream",
     "text": [
      "Taş Kağıt Makas Oyununa Hoş geldiniz!\n",
      "-------------------------------------\n",
      "\n",
      "1 - Taş\n",
      "2 - Kağıt \n",
      "3 - Makas\n",
      "Oyundan çıkmak isterseniz bu değerler dışında bir değer giriniz\n",
      "Beraber, yeniden oynayınız\n",
      "\n",
      "1 - Taş\n",
      "2 - Kağıt \n",
      "3 - Makas\n",
      "Oyundan çıkmak isterseniz bu değerler dışında bir değer giriniz\n",
      "Bilgisayarın Seçimi: 3\n",
      "\n",
      "Kazanan: Bilgisayar\n",
      "\n",
      "1 - Taş\n",
      "2 - Kağıt \n",
      "3 - Makas\n",
      "Oyundan çıkmak isterseniz bu değerler dışında bir değer giriniz\n",
      "Bilgisayarın Seçimi: 1\n",
      "\n",
      "Kazanan: Bilgisayar\n",
      "\n",
      "1 - Taş\n",
      "2 - Kağıt \n",
      "3 - Makas\n",
      "Oyundan çıkmak isterseniz bu değerler dışında bir değer giriniz\n",
      "Beraber, yeniden oynayınız\n",
      "\n",
      "1 - Taş\n",
      "2 - Kağıt \n",
      "3 - Makas\n",
      "Oyundan çıkmak isterseniz bu değerler dışında bir değer giriniz\n",
      "\n",
      "\n",
      "Kullanıcı skoru 0 - Bilgisayarın skoru 200\n",
      "Kazanan Bilgisayar\n"
     ]
    }
   ],
   "source": [
    "import random\n",
    "oyuncu_skoru = bilgisayar_skoru = 0\n",
    "bilgisayar_secim = 0\n",
    "def sonucu_goster(kazanan = \"Bilgisayar\"):\n",
    "    print(f\"Bilgisayarın Seçimi: {bilgisayar_secim}\\n\\nKazanan: {kazanan}\")\n",
    "    global oyuncu_skoru, bilgisayar_skoru\n",
    "    if kazanan == \"Bilgisayar\":\n",
    "        bilgisayar_skoru += 100\n",
    "    else:\n",
    "        oyuncu_skoru += 100\n",
    "print(\"Taş Kağıt Makas Oyununa Hoş geldiniz!\\n\" + \"-\"*37)\n",
    "while True:\n",
    "    print(\"\\n1 - Taş\\n2 - Kağıt \\n3 - Makas\\nOyundan çıkmak isterseniz bu değerler dışında bir değer giriniz\")\n",
    "    oyuncu_secim = int(input(\"Seçiminizi yapınız\"))\n",
    "    bilgisayar_secim = random.choice([1, 2, 3])\n",
    "    if oyuncu_secim == bilgisayar_secim:\n",
    "        print(\"Beraber, yeniden oynayınız\")\n",
    "    elif oyuncu_secim  == 1:\n",
    "        if bilgisayar_secim == 2:\n",
    "            sonucu_goster()\n",
    "        elif bilgisayar_secim == 3:\n",
    "            sonucu_goster(\"Kullanıcı\")\n",
    "    elif oyuncu_secim  == 2:\n",
    "        if bilgisayar_secim == 1:\n",
    "            sonucu_goster(\"Kullanıcı\")\n",
    "        elif bilgisayar_secim == 3:\n",
    "            sonucu_goster()\n",
    "    elif oyuncu_secim  == 3:\n",
    "        if bilgisayar_secim == 1:\n",
    "            sonucu_goster()\n",
    "        elif bilgisayar_secim == 2:\n",
    "            sonucu_goster(\"Kullanıcı\")\n",
    "    else:\n",
    "        break\n",
    "print(f\"\\n\\nKullanıcı skoru {oyuncu_skoru} - Bilgisayarın skoru {bilgisayar_skoru}\")\n",
    "if oyuncu_skoru > bilgisayar_skoru: print(\"Kazanan Kullanıcı\")\n",
    "elif oyuncu_skoru < bilgisayar_skoru: print(\"Kazanan Bilgisayar\")\n",
    "else: print(\"Oyun Berabere\")"
   ]
  },
  {
   "cell_type": "code",
   "execution_count": null,
   "metadata": {},
   "outputs": [],
   "source": []
  }
 ],
 "metadata": {
  "kernelspec": {
   "display_name": "Python 3.9.12 ('base')",
   "language": "python",
   "name": "python3"
  },
  "language_info": {
   "codemirror_mode": {
    "name": "ipython",
    "version": 3
   },
   "file_extension": ".py",
   "mimetype": "text/x-python",
   "name": "python",
   "nbconvert_exporter": "python",
   "pygments_lexer": "ipython3",
   "version": "3.9.12"
  },
  "orig_nbformat": 4,
  "vscode": {
   "interpreter": {
    "hash": "90149d1c5bbc0eaf5ddce05c7f84852f0254393e6b3836c84f153b07d377f381"
   }
  }
 },
 "nbformat": 4,
 "nbformat_minor": 2
}
