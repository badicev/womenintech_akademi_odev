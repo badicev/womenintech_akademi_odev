{
 "cells": [
  {
   "cell_type": "markdown",
   "metadata": {},
   "source": [
    "1- Soru: 0dan 100e kadar karışık sırada sayıları tutan bir listenizin olduğunu düşünün. Bu liste içerinde n tane sayı eksik.\n",
    "\n",
    "\n",
    "\n",
    "2- Soru: 0dan 100e kadar karışık sırada syıları tutan bir litemnizin olduğunu düşünün.Bu liste içerisinde bu defa n tane sayı yerine 1 adet sayı eksik. Eksik olan sayıyı bulunuz."
   ]
  },
  {
   "cell_type": "code",
   "execution_count": 8,
   "metadata": {},
   "outputs": [
    {
     "data": {
      "text/plain": [
       "[51, 57, 76, 77]"
      ]
     },
     "execution_count": 8,
     "metadata": {},
     "output_type": "execute_result"
    }
   ],
   "source": [
    "\n",
    "import random\n",
    "my_list = []\n",
    "def eksik_sayi_bul(my_list, n):\n",
    "    my_list = [i for i in range(0, 101)]\n",
    "    random.shuffle(my_list)\n",
    "    for i in range(0, n):\n",
    "        my_list.remove(i)\n",
    "        eksikler = []\n",
    "        for i in range(0, 101):\n",
    "            if i not in my_list:\n",
    "                eksikler.append(my_list[i])\n",
    "    return eksikler\n",
    "eksik_sayi_bul(my_list, 4)  "
   ]
  },
  {
   "cell_type": "code",
   "execution_count": 9,
   "metadata": {},
   "outputs": [
    {
     "data": {
      "text/plain": [
       "[42]"
      ]
     },
     "execution_count": 9,
     "metadata": {},
     "output_type": "execute_result"
    }
   ],
   "source": [
    "\n",
    "import random\n",
    "my_list = []\n",
    "def eksik_sayi_bul(my_list, n):\n",
    "    my_list = [i for i in range(0, 101)]\n",
    "    random.shuffle(my_list)\n",
    "    for i in range(0, n):\n",
    "        my_list.remove(i)\n",
    "        eksikler = []\n",
    "        for i in range(0, 101):\n",
    "            if i not in my_list:\n",
    "                eksikler.append(my_list[i])\n",
    "    return eksikler\n",
    "eksik_sayi_bul(my_list, 1)  "
   ]
  },
  {
   "cell_type": "code",
   "execution_count": null,
   "metadata": {},
   "outputs": [],
   "source": []
  }
 ],
 "metadata": {
  "kernelspec": {
   "display_name": "Python 3.9.12 ('base')",
   "language": "python",
   "name": "python3"
  },
  "language_info": {
   "codemirror_mode": {
    "name": "ipython",
    "version": 3
   },
   "file_extension": ".py",
   "mimetype": "text/x-python",
   "name": "python",
   "nbconvert_exporter": "python",
   "pygments_lexer": "ipython3",
   "version": "3.9.12"
  },
  "orig_nbformat": 4,
  "vscode": {
   "interpreter": {
    "hash": "90149d1c5bbc0eaf5ddce05c7f84852f0254393e6b3836c84f153b07d377f381"
   }
  }
 },
 "nbformat": 4,
 "nbformat_minor": 2
}
