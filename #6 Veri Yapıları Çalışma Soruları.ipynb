{
 "cells": [
  {
   "cell_type": "markdown",
   "metadata": {},
   "source": [
    "                                                     Veri Yapıları Çalışma Soruları"
   ]
  },
  {
   "cell_type": "markdown",
   "metadata": {},
   "source": [
    "1-)  0dan 100e kadar karışık sırada sayıları tutan bir listenizin olduğunu düşünün.\n",
    " Bu liste içerisinde bu defa n tane sayı yerine 1 adet sayı eksik. Eksik olan sayıyı bulunuz."
   ]
  },
  {
   "cell_type": "code",
   "execution_count": 29,
   "metadata": {},
   "outputs": [
    {
     "name": "stdout",
     "output_type": "stream",
     "text": [
      "[71, 89, 49, 54, 1, 66, 0, 13, 22, 77, 21, 9, 87, 91, 30, 74, 48, 27, 43, 64, 38, 6, 81, 65, 62, 55, 98, 41, 79, 53, 8, 25, 10, 70, 7, 47, 35, 82, 73, 45, 80, 78, 51, 94, 72, 57, 36, 63, 69, 52, 58, 75, 44, 29, 24, 18, 97, 99, 50, 17, 16, 56, 61, 4, 3, 96, 20, 26, 31, 37, 68, 15, 19, 85, 84, 59, 92, 14, 95, 5, 76, 46, 67, 88, 32, 90, 2, 34, 86, 28, 40, 60, 42, 11, 23, 93, 12, 39, 83, 33]\n",
      "[76]\n",
      "[71, 89, 49, 54, 1, 66, 0, 13, 22, 77, 21, 9, 87, 91, 30, 74, 48, 27, 43, 64, 38, 6, 81, 65, 62, 55, 98, 41, 79, 53, 8, 25, 10, 70, 7, 47, 35, 82, 73, 45, 80, 78, 51, 94, 72, 57, 36, 63, 69, 52, 58, 75, 44, 29, 24, 18, 97, 99, 50, 17, 16, 56, 61, 4, 3, 96, 20, 26, 31, 37, 68, 15, 19, 85, 84, 59, 92, 14, 95, 5, 46, 67, 88, 32, 90, 2, 34, 86, 28, 40, 60, 42, 11, 23, 93, 12, 39, 83, 33]\n",
      "Listemiz içerisinde 1 tane sayı eksiktir. Eksik olan sayılar [76]\n"
     ]
    }
   ],
   "source": [
    "#Çözüm:#listeyi hazırlama\n",
    "import random\n",
    "\n",
    "my_list = [i for i in range(0, 100)]\n",
    "random.shuffle(my_list)\n",
    "\n",
    "#1. yol\n",
    "remove_list = random.sample(my_list, 1)\n",
    "\n",
    "print(my_list)\n",
    "print(remove_list)\n",
    "\n",
    "for i in remove_list:\n",
    "    my_list.remove(i)\n",
    "\n",
    "print(my_list)\n",
    "\n",
    "missing_list = []\n",
    "for i in range(0, 100):\n",
    "    if i not in my_list:\n",
    "        missing_list.append(i)\n",
    "\n",
    "print(f\"Listemiz içerisinde {len(missing_list)} tane sayı eksiktir. Eksik olan sayılar {missing_list}\")"
   ]
  },
  {
   "cell_type": "markdown",
   "metadata": {},
   "source": [
    "2-) Bir liste üzerinde sıralama algoritmasını kullanarak listeyi sıralayınız."
   ]
  },
  {
   "cell_type": "code",
   "execution_count": 73,
   "metadata": {},
   "outputs": [
    {
     "data": {
      "text/plain": [
       "[-9, -4, 1, 5, 9, 11, 16, 78]"
      ]
     },
     "execution_count": 73,
     "metadata": {},
     "output_type": "execute_result"
    }
   ],
   "source": [
    "#Çözüm: \n",
    "listem = [1, 5, 9, 78, 11, 16, -4, -9]\n",
    "def sirala(my_list):\n",
    "    for i in range(0, len(my_list)):\n",
    "        for j in range(0, len(my_list) - 1):\n",
    "            if my_list[i] < my_list[j]:\n",
    "                gecici = my_list[i]\n",
    "                my_list[i] = my_list[j]\n",
    "                my_list[j] = gecici\n",
    "    return my_list\n",
    "\n",
    "sirala(listem)    \n",
    "                    "
   ]
  },
  {
   "cell_type": "markdown",
   "metadata": {},
   "source": [
    "3-) Fonksiyon bir integer array nums ve bir hedef target değişkeni almalı ve bizlere toplamı target olan indexleri dönmeli.\n",
    "\n",
    "Kurallar: Aynı index’teki değeri iki defa kullanamayız.\n",
    "\n",
    "Örnek\n",
    "Parametreler: nums = [2,7,11,15], target = 9\n",
    "\n",
    "Dönen Değer: [0,1]\n",
    "\n",
    "Açıklama: nums[0] ve nums[1]'deki değerlerin toplamı 9 yaptığı için çıktımız [0, 1] oldu.\n",
    "\n",
    "Örnek\n",
    "\n",
    "Parametreler: nums = [3,2,4], target = 6\n",
    "\n",
    "Dönen Değer: [1,2]\n",
    "\n",
    "Açıklama: nums[1] ve nums[2]'deki değerlerin toplamı 6 yaptığı için çıktımız [1, 2] oldu.\n",
    "\n",
    "Not: Burada [0,0] çıktı olarak kabul edilemez. Çünkü aynı index'i kullanamayacağımız söylenmişti.\n",
    "\n",
    "Örnek\n",
    "\n",
    "Parametreler: nums = [3,2,4,1,3], target = 7\n",
    "\n",
    "Dönen Değer: [2,4]\n",
    "\n",
    "Açıklama: nums[2] ve nums[4]'deki değerlerin toplamı 7 yaptığı için çıktımız [2, 4] oldu.\n",
    "\n",
    " "
   ]
  },
  {
   "cell_type": "code",
   "execution_count": 95,
   "metadata": {},
   "outputs": [
    {
     "name": "stdout",
     "output_type": "stream",
     "text": [
      "[0, 2]\n",
      "[2, 0]\n"
     ]
    }
   ],
   "source": [
    "#Çözüm:\n",
    "\n",
    "def hangi_sayinin_toplami(liste, a):\n",
    "    for i in range(0, len(liste)):\n",
    "        for j in range(0, len(liste)):\n",
    "            if i == j:\n",
    "                continue\n",
    "            elif i + j == a:\n",
    "                #print(f\"{i} ve {j} sayılarının toplamı {a} sayısına eşittir.\")\n",
    "                print([liste.index(i), liste.index(j)])\n",
    "                \n",
    "                \n",
    "hangi_sayinin_toplami([3,2,4,1,3], 7)               \n",
    "hangi_sayinin_toplami([2,7,11,15], 9)"
   ]
  }
 ],
 "metadata": {
  "kernelspec": {
   "display_name": "Python 3.10.6 64-bit",
   "language": "python",
   "name": "python3"
  },
  "language_info": {
   "codemirror_mode": {
    "name": "ipython",
    "version": 3
   },
   "file_extension": ".py",
   "mimetype": "text/x-python",
   "name": "python",
   "nbconvert_exporter": "python",
   "pygments_lexer": "ipython3",
   "version": "3.10.6"
  },
  "orig_nbformat": 4,
  "vscode": {
   "interpreter": {
    "hash": "90d27a0bf2495dd96255ddaab1d26b559103fe795769d030e91497c1d771ea33"
   }
  }
 },
 "nbformat": 4,
 "nbformat_minor": 2
}
