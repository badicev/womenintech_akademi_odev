{
 "cells": [
  {
   "cell_type": "code",
   "execution_count": 1,
   "metadata": {},
   "outputs": [
    {
     "name": "stdout",
     "output_type": "stream",
     "text": [
      "Yaşasın, doğru bildim!!\n"
     ]
    }
   ],
   "source": [
    "from random import randint\n",
    "\n",
    "def bilgisayar_tahmini(benim_sayim):\n",
    "    baslangic = 1\n",
    "    bitis = 100\n",
    "    sonuc = \"\"\n",
    "    while sonuc != \"d\":\n",
    "        tahmin = randint(baslangic, bitis)\n",
    "\n",
    "        sonuc = input(f\"{tahmin} değeri aklından tuttuğun değerden büyükse (b), küçükse(k), doğruysa (d) yazınız.\").lower()\n",
    "        if sonuc == \"b\":         \n",
    "            bitis = tahmin - 1\n",
    "        elif sonuc == \"k\": \n",
    "            baslangic = tahmin + 1\n",
    "        else:\n",
    "            print(\"Yaşasın, doğru bildim!!\")\n",
    "            break        \n",
    "\n",
    "bilgisayar_tahmini(40)"
   ]
  },
  {
   "cell_type": "code",
   "execution_count": null,
   "metadata": {},
   "outputs": [],
   "source": []
  }
 ],
 "metadata": {
  "kernelspec": {
   "display_name": "Python 3.9.12 ('base')",
   "language": "python",
   "name": "python3"
  },
  "language_info": {
   "codemirror_mode": {
    "name": "ipython",
    "version": 3
   },
   "file_extension": ".py",
   "mimetype": "text/x-python",
   "name": "python",
   "nbconvert_exporter": "python",
   "pygments_lexer": "ipython3",
   "version": "3.9.12"
  },
  "orig_nbformat": 4,
  "vscode": {
   "interpreter": {
    "hash": "90149d1c5bbc0eaf5ddce05c7f84852f0254393e6b3836c84f153b07d377f381"
   }
  }
 },
 "nbformat": 4,
 "nbformat_minor": 2
}
