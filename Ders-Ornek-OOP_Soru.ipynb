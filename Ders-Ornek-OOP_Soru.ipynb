{
 "cells": [
  {
   "cell_type": "markdown",
   "metadata": {},
   "source": [
    "**Hayvanat Bahçesi**\n",
    "\n",
    "Hayvanların bilgilerini takip etmek için bir sistem tasarlayalım\n",
    "* Hayvanlar:\n",
    "* Atlar(zebralar, atlar, eşekler vb.)\n",
    "* Kemirgenler(sıçanlar, kunduzlar vb.)\n",
    "* Kedigiller(kaplanlar, aslanlar)\n",
    "* Hayvanların tür adı, ağırlığı, yaş bilgileri tutulacak\n",
    "* Sistem yem verme saatlerini seçebilmeli -> getFeedSchedule()\n",
    "* Her hayvan için belirli ilaçların dozajının belirlenmesi -> getDosage()"
   ]
  },
  {
   "cell_type": "code",
   "execution_count": 2,
   "metadata": {},
   "outputs": [],
   "source": [
    "class Hayvan:\n",
    "    def __init__(self, tur_adi, agirligi, yas):\n",
    "        self.tur_adi = tur_adi\n",
    "        self.agirligi = agirligi\n",
    "        self.yas = yas\n",
    "\n",
    "    def getFeedSchedule(self):\n",
    "        return [10, 20]\n",
    "    \n",
    "    def getDosage(self):\n",
    "        return 2"
   ]
  },
  {
   "cell_type": "code",
   "execution_count": 3,
   "metadata": {},
   "outputs": [],
   "source": [
    "class Atlar(Hayvan):\n",
    "    def __init__(self, tur_adi, agirligi, yas):\n",
    "        super().__init__(tur_adi, agirligi, yas)\n",
    "\n",
    "    def getFeedSchedule(self):\n",
    "        return [6, 12, 18]\n",
    "    \n",
    "    def getDosage(self):\n",
    "        return 3"
   ]
  },
  {
   "cell_type": "code",
   "execution_count": 4,
   "metadata": {},
   "outputs": [],
   "source": [
    "class Kemirgenler(Hayvan):\n",
    "    def __init__(self, tur_adi, agirligi, yas):\n",
    "        super().__init__(tur_adi, agirligi, yas)\n",
    "\n",
    "    def getFeedSchedule(self):\n",
    "        return [8, 18]\n",
    "    \n",
    "    def getDosage(self):\n",
    "        return 1"
   ]
  },
  {
   "cell_type": "code",
   "execution_count": 5,
   "metadata": {},
   "outputs": [],
   "source": [
    "class Kedigiller(Hayvan):\n",
    "    def __init__(self, tur_adi, agirligi, yas):\n",
    "        super().__init__(tur_adi, agirligi, yas)\n",
    "\n",
    "    def getFeedSchedule(self):\n",
    "        return [6, 13, 20]\n",
    "    \n",
    "    def getDosage(self):\n",
    "        return 2"
   ]
  },
  {
   "cell_type": "code",
   "execution_count": 6,
   "metadata": {},
   "outputs": [],
   "source": [
    "at = Atlar(\"At\", 150, 3)\n",
    "aslan = Kedigiller(\"Aslan\", 90, 1)\n",
    "kemirgen = Kemirgenler(\"Kemirgen\", 2, 1)"
   ]
  },
  {
   "cell_type": "code",
   "execution_count": 10,
   "metadata": {},
   "outputs": [
    {
     "name": "stdout",
     "output_type": "stream",
     "text": [
      "Atlar için:\n",
      "İlaç Dozu: 3\n",
      "Yem Saatleri: [6, 12, 18]\n",
      "\n",
      "\n",
      "Kedigiller için:\n",
      "İlaç Dozu: 2\n",
      "Yem Saatleri: [6, 13, 20]\n",
      "\n",
      "\n",
      "Kemirgenler için:\n",
      "İlaç Dozu: 1\n",
      "Yem Saatleri: [8, 18]\n",
      "\n",
      "\n"
     ]
    }
   ],
   "source": [
    "print(f\"Atlar için:\\nİlaç Dozu: {at.getDosage()}\\nYem Saatleri: {at.getFeedSchedule()}\\n\\n\")\n",
    "print(f\"Kedigiller için:\\nİlaç Dozu: {aslan.getDosage()}\\nYem Saatleri: {aslan.getFeedSchedule()}\\n\\n\")\n",
    "print(f\"Kemirgenler için:\\nİlaç Dozu: {kemirgen.getDosage()}\\nYem Saatleri: {kemirgen.getFeedSchedule()}\\n\\n\")"
   ]
  }
 ],
 "metadata": {
  "kernelspec": {
   "display_name": "Python 3.11.0 64-bit",
   "language": "python",
   "name": "python3"
  },
  "language_info": {
   "codemirror_mode": {
    "name": "ipython",
    "version": 3
   },
   "file_extension": ".py",
   "mimetype": "text/x-python",
   "name": "python",
   "nbconvert_exporter": "python",
   "pygments_lexer": "ipython3",
   "version": "3.11.0"
  },
  "orig_nbformat": 4,
  "vscode": {
   "interpreter": {
    "hash": "48568052eec3e48bec5163d0241420ad0cb3738ffc0c56fbb083086b8e264995"
   }
  }
 },
 "nbformat": 4,
 "nbformat_minor": 2
}
