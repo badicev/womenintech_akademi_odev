{
 "cells": [
  {
   "cell_type": "code",
   "execution_count": 1,
   "metadata": {},
   "outputs": [
    {
     "name": "stdout",
     "output_type": "stream",
     "text": [
      "Daha büyük bir sayı giriniz\n",
      "Daha küçük bir sayı giriniz\n",
      "Daha küçük bir sayı giriniz\n",
      "Daha büyük bir sayı giriniz\n",
      "Daha büyük bir sayı giriniz\n",
      "Daha büyük bir sayı giriniz\n",
      "Daha büyük bir sayı giriniz\n",
      "Tebrikler! Doğru tahmin ettiniz.\n"
     ]
    }
   ],
   "source": [
    "from random import randint\n",
    "\n",
    "\n",
    "def sayiTahmini(sayi):\n",
    "    kullanıcı_sayisi = int(input(\"Sayı tahmini oyunu için 1 ile 100 arasında bir sayı tahmin ediniz: \"))\n",
    "    while sayi!= kullanıcı_sayisi:\n",
    "        if sayi < kullanıcı_sayisi:\n",
    "           print(\"Daha küçük bir sayı giriniz\")\n",
    "        else:\n",
    "              print(\"Daha büyük bir sayı giriniz\")\n",
    "        kullanıcı_sayisi = int(input(\"Yeniden tahminde bulunun:\"  ))      \n",
    "    else: \n",
    "        print(\"Tebrikler! Doğru tahmin ettiniz.\")\n",
    "            \n",
    "sayiTahmini(randint(1, 100))"
   ]
  },
  {
   "cell_type": "code",
   "execution_count": null,
   "metadata": {},
   "outputs": [],
   "source": []
  }
 ],
 "metadata": {
  "kernelspec": {
   "display_name": "Python 3.9.12 ('base')",
   "language": "python",
   "name": "python3"
  },
  "language_info": {
   "codemirror_mode": {
    "name": "ipython",
    "version": 3
   },
   "file_extension": ".py",
   "mimetype": "text/x-python",
   "name": "python",
   "nbconvert_exporter": "python",
   "pygments_lexer": "ipython3",
   "version": "3.9.12"
  },
  "orig_nbformat": 4,
  "vscode": {
   "interpreter": {
    "hash": "90149d1c5bbc0eaf5ddce05c7f84852f0254393e6b3836c84f153b07d377f381"
   }
  }
 },
 "nbformat": 4,
 "nbformat_minor": 2
}
