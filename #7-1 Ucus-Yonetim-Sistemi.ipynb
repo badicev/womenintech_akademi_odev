{
 "cells": [
  {
   "cell_type": "markdown",
   "metadata": {},
   "source": [
    "                                                      Uçuş Yönetim Sistemi"
   ]
  },
  {
   "cell_type": "markdown",
   "metadata": {},
   "source": [
    "  Uçuşların ve pilotların yönetimi için bir sistem tasarlayın.\n",
    "\n",
    "* Hava yolu şirketleri uçuşları gerçekleştirir. Her hava yolunun bir kimliği vardır.\n",
    "* Hava yolu şirketi, farklı tipteki uçaklara sahiptir.\n",
    "* Uçaklar çalışır veya onarım durumunda olabilir.\n",
    "* Her uçuşun benzersiz kimliği, kalkacağı ve ineceği havaalanı, kalkış ve iniş saatleri vardır.\n",
    "* Her uçuşun bir pilotu ve yardımcı pilotu vardır ve uçağı kullanırlar.\n",
    "* Havaalanlarının benzersiz kimlikleri ve isimleri vardır.\n",
    "* Hava yolu şirketlerinin pilotları vardır ve her pilotun bir deneyim seviyesi mevcuttur.\n",
    "* Bir uçak tipi, belirli sayıda pilota ihtiyaç duyabilir.\n",
    "* Bu sistemi tasvir eden Class(Sınıf) diyagramını çiziniz."
   ]
  },
  {
   "cell_type": "markdown",
   "metadata": {},
   "source": [
    "***********************************************************************************************************************************************"
   ]
  },
  {
   "cell_type": "code",
   "execution_count": 9,
   "metadata": {},
   "outputs": [],
   "source": [
    "class Sirket:\n",
    "    def __init__(self, isim):\n",
    "        self.isim = isim\n",
    "\n",
    "        def __str__(self):\n",
    "            return self.isim\n",
    "            \n",
    "\n",
    "                \n",
    "         "
   ]
  },
  {
   "cell_type": "code",
   "execution_count": 8,
   "metadata": {},
   "outputs": [],
   "source": [
    "class Ucak(Sirket):\n",
    "    def __init__(self, ucak_durumu, ucak_tipi, pilot_sayisi):\n",
    "        self.ucak_durumu = ucak_durumu\n",
    "        self.ucak_tipi = ucak_tipi\n",
    "        self.pilot_sayisi = pilot_sayisi\n",
    "        def ucak_durumu(self):\n",
    "            if self.ucak_durumu == \"Sağlam\":\n",
    "                print(\"Çalışabilir\")\n",
    "            else:\n",
    "                print(\"Onarımda\")\n",
    "        def ucak_tipi(self):\n",
    "            if self.ucak_tipi == \"Kargo\":\n",
    "                print(\"Kargo uçağı\")\n",
    "            else:\n",
    "                print(\"Yolcu uçağı\")\n",
    "        def pilot_sayisi(self):\n",
    "            if self.pilot_sayisi == 1:\n",
    "                print(\"1 pilot\")\n",
    "            elif self.pilot_sayisi == 2:\n",
    "                print(\"2 pilot\")\n",
    "            else:\n",
    "                print(\"3 pilot\")"
   ]
  },
  {
   "cell_type": "code",
   "execution_count": 10,
   "metadata": {},
   "outputs": [],
   "source": [
    "class Ucus(Sirket):\n",
    "    def __init__(self, ucus_kodu, kalkis_saati, inis_saati, kalkacagi_havalimanı, inis_yapacagi_havalimanı):\n",
    "        self.ucus_kodu = ucus_kodu\n",
    "        self.kalkis_saati = kalkis_saati\n",
    "        self.inis_saati = inis_saati\n",
    "        self.kalkacagi_havalimanı = kalkacagi_havalimanı\n",
    "        self.inis_yapacagi_havalimanı = inis_yapacagi_havalimanı\n",
    "\n",
    "        def getKalkis_saati(self):\n",
    "            return self.kalkis_saati\n",
    "        def getInis_saati(self):\n",
    "            return self.inis_saati\n",
    "        def getKalkacagi_havalimanı(self):\n",
    "            return self.kalkacagi_havalimanı\n",
    "        def getInis_yapacagi_havalimanı(self):\n",
    "            return self.inis_yapacagi_havalimanı\n"
   ]
  },
  {
   "cell_type": "code",
   "execution_count": 7,
   "metadata": {},
   "outputs": [],
   "source": [
    "class Havaalani(Sirket):\n",
    "    def __init__(self, isim, havaalani_kodu):\n",
    "        self.isim = isim\n",
    "        self.havaalani_kodu = havaalani_kodu\n",
    "\n",
    "        def __str__(self):\n",
    "            return self.isim\n"
   ]
  },
  {
   "cell_type": "code",
   "execution_count": 22,
   "metadata": {},
   "outputs": [],
   "source": [
    "\n",
    "class Pilot():\n",
    "    def __init__(self, isim, deneyim_seviyesi, pilot_unvani):\n",
    "            self.isim = isim\n",
    "            self.deneyim_seviyesi = deneyim_seviyesi\n",
    "            self.pilot_unvami = pilot_unvani\n",
    "            def __str__(self):\n",
    "                return self.isim\n",
    "\n",
    "            def deneyim_seviyesi(self):\n",
    "                if self.deneyim_seviyesi == \"Yeni\":\n",
    "                    print(\"Yeni pilot\")\n",
    "                elif self.deneyim_seviyesi == \"Orta\":\n",
    "                    print(\"Orta deneyimli pilot\")\n",
    "                else:\n",
    "                    print(\"Uzman pilot\")\n",
    "\n",
    "\n",
    "            def pilot_unvani(self):\n",
    "                if self.pilot_unvani == \"Kaptan\":\n",
    "                    print(\"Kaptan pilot\")\n",
    "                else:\n",
    "                    print(\"Yardımcı pilot\")\n",
    "\n",
    "            "
   ]
  },
  {
   "cell_type": "code",
   "execution_count": 15,
   "metadata": {},
   "outputs": [
    {
     "name": "stdout",
     "output_type": "stream",
     "text": [
      "Uçuş kodu: BDC 123 Kalkış saati: 10:00 İniş saati: 13:00 Kalkacağı havalimanı: İzmir İniş yapacağı havalimanı: Ankara\n"
     ]
    }
   ],
   "source": [
    "ucus1 = Ucus(\"BDC 123\", \"10:00\", \"13:00\", \"İzmir\", \"Ankara\")\n",
    "print(f\"Uçuş kodu: {ucus1.ucus_kodu} Kalkış saati: {ucus1.kalkis_saati} İniş saati: {ucus1.inis_saati} Kalkacağı havalimanı: {ucus1.kalkacagi_havalimanı} İniş yapacağı havalimanı: {ucus1.inis_yapacagi_havalimanı}\")"
   ]
  },
  {
   "cell_type": "code",
   "execution_count": 24,
   "metadata": {},
   "outputs": [
    {
     "name": "stdout",
     "output_type": "stream",
     "text": [
      "Pilot ismi: Başak Deneyim seviyesi: Uzman Pilot unvanı: Kaptan\n"
     ]
    }
   ],
   "source": [
    "pilot1 = Pilot(\"Başak\", \"Uzman\", \"Kaptan\")\n",
    "print(f\"Pilot ismi: {pilot1.isim} Deneyim seviyesi: {pilot1.deneyim_seviyesi} Pilot unvanı: {pilot1.pilot_unvami}\")"
   ]
  },
  {
   "cell_type": "code",
   "execution_count": 26,
   "metadata": {},
   "outputs": [
    {
     "name": "stdout",
     "output_type": "stream",
     "text": [
      "Uçak durumu: Sağlam Uçak tipi: Yolcu Pilot sayısı: 2\n"
     ]
    }
   ],
   "source": [
    "ucak1 = Ucak(\"Sağlam\", \"Yolcu\", 2)\n",
    "print(f\"Uçak durumu: {ucak1.ucak_durumu} Uçak tipi: {ucak1.ucak_tipi} Pilot sayısı: {ucak1.pilot_sayisi}\")"
   ]
  },
  {
   "cell_type": "code",
   "execution_count": null,
   "metadata": {},
   "outputs": [],
   "source": []
  }
 ],
 "metadata": {
  "kernelspec": {
   "display_name": "Python 3.11.0 64-bit",
   "language": "python",
   "name": "python3"
  },
  "language_info": {
   "codemirror_mode": {
    "name": "ipython",
    "version": 3
   },
   "file_extension": ".py",
   "mimetype": "text/x-python",
   "name": "python",
   "nbconvert_exporter": "python",
   "pygments_lexer": "ipython3",
   "version": "3.11.0"
  },
  "orig_nbformat": 4,
  "vscode": {
   "interpreter": {
    "hash": "48568052eec3e48bec5163d0241420ad0cb3738ffc0c56fbb083086b8e264995"
   }
  }
 },
 "nbformat": 4,
 "nbformat_minor": 2
}
